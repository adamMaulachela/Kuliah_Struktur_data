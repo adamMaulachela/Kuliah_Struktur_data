{
 "cells": [
  {
   "cell_type": "markdown",
   "id": "9d759924",
   "metadata": {},
   "source": [
    "# Percobaan 1 : Array"
   ]
  },
  {
   "cell_type": "code",
   "execution_count": 2,
   "id": "b99c1fcd",
   "metadata": {},
   "outputs": [
    {
     "name": "stdout",
     "output_type": "stream",
     "text": [
      "90\n"
     ]
    }
   ],
   "source": [
    "# Praktek 1 : Membuat array\n",
    "# impor library numpy\n",
    "import numpy as np\n",
    "\n",
    "# membuat array dengan numpy\n",
    "nilai_siswa = np.array([85, 55, 40, 90])\n",
    "\n",
    "# akses data pada array\n",
    "print(nilai_siswa[3])"
   ]
  },
  {
   "cell_type": "code",
   "execution_count": 8,
   "id": "9eb3b073",
   "metadata": {},
   "outputs": [
    {
     "name": "stdout",
     "output_type": "stream",
     "text": [
      "75\n",
      "40\n",
      "88\n",
      "70\n",
      "Ukuran Array :  (4,)\n",
      "Ukuran Array :  (2, 3)\n",
      "Dimensi Array :  2\n"
     ]
    }
   ],
   "source": [
    "# Praktek 2 : Mengakses, Mengubah, dan Cek Ukuran dan Dimensi Array\n",
    "# impor libaray numpy\n",
    "import numpy as np\n",
    "\n",
    "# membuat array dengan numpy\n",
    "nilai_siswa_1 = np.array([75, 65, 45, 80])\n",
    "nilai_siswa_2 = np.array([[85, 55, 40], [50, 40, 99]])\n",
    "\n",
    "# cara akses elemen array\n",
    "print(nilai_siswa_1[0])\n",
    "print(nilai_siswa_2[1][1])\n",
    "\n",
    "# mengubah nilai elemen array\n",
    "nilai_siswa_1[0] = 88\n",
    "nilai_siswa_2[1][1] = 70\n",
    "\n",
    "# cek perubahannya \n",
    "print(nilai_siswa_1[0])\n",
    "print(nilai_siswa_2[1][1])\n",
    "\n",
    "# Cek ukuran dan dimensi array\n",
    "print(\"Ukuran Array : \", nilai_siswa_1.shape)\n",
    "print(\"Ukuran Array : \", nilai_siswa_2.shape)\n",
    "print(\"Dimensi Array : \", nilai_siswa_2.ndim)"
   ]
  },
  {
   "cell_type": "code",
   "execution_count": 9,
   "id": "d40131a1",
   "metadata": {},
   "outputs": [
    {
     "name": "stdout",
     "output_type": "stream",
     "text": [
      "[5 7 9]\n",
      "[20 30]\n",
      "10\n",
      "20\n",
      "30\n",
      "40\n"
     ]
    }
   ],
   "source": [
    "# Praktek 3 : Operasi Aritmatika Pada Array\n",
    "# impor library numpy\n",
    "import numpy as np\n",
    "\n",
    "# membuat array\n",
    "a = np.array([1, 2, 3])\n",
    "b = np.array([4, 5, 6])\n",
    "\n",
    "# menggunakan operasi penjumlahan pada 2 array\n",
    "print(a + b)       # array([5, 7, 9])\n",
    "\n",
    "# Indexing dan Slicing pada Array\n",
    "arr = np.array([10, 20, 30, 40])\n",
    "print(arr[1:3])    # array([20, 30])\n",
    "\n",
    "\n",
    "# iterasi pada array\n",
    "for x in arr:\n",
    "    print(x)"
   ]
  },
  {
   "cell_type": "markdown",
   "id": "747b0eba",
   "metadata": {},
   "source": [
    "# Percobaan 2 : Traversal, Insertion, Deletion"
   ]
  },
  {
   "cell_type": "code",
   "execution_count": null,
   "id": "bf63b294",
   "metadata": {},
   "outputs": [
    {
     "name": "stdout",
     "output_type": "stream",
     "text": [
      "Linear Traversal:  1 2 3 4 5 \n"
     ]
    }
   ],
   "source": [
    "# Praktek 4 : Linear Traversal\n",
    "# membuat array\n",
    "arr = [1, 2, 3, 4, 5]\n",
    "\n",
    "# Linear Traversal ke tiap elemen arr\n",
    "print(\"Linear Traversal: \", end=\" \")\n",
    "for i in arr:\n",
    "    print(i, end=\" \")\n",
    "print()\n"
   ]
  },
  {
   "cell_type": "code",
   "execution_count": 16,
   "id": "0609323a",
   "metadata": {},
   "outputs": [
    {
     "name": "stdout",
     "output_type": "stream",
     "text": [
      "Reverse Traversal: 5 4 3 2 1 \n"
     ]
    }
   ],
   "source": [
    "# Praktek 5 : Reverse Traversal\n",
    "# membuat array\n",
    "arr = [1, 2, 3, 4, 5]\n",
    "\n",
    "# Reverse Traversal dari elemen akhir \n",
    "print(\"Reverse Traversal: \", end=\"\")\n",
    "for i in range(len(arr) - 1, -1, -1):\n",
    "    print(arr[i], end=\" \")\n",
    "print()"
   ]
  },
  {
   "cell_type": "code",
   "execution_count": null,
   "id": "8706fa5a",
   "metadata": {},
   "outputs": [
    {
     "name": "stdout",
     "output_type": "stream",
     "text": [
      "Traversal using while loop:  1 2 3 4 5 \n"
     ]
    }
   ],
   "source": [
    "# Praktek 7 : Linear Traversal dengan Metode While\n",
    "# membuat array\n",
    "arr = [1, 2, 3, 4, 5]\n",
    "\n",
    "# mendeklarasikan nilai awal\n",
    "n = len(arr)\n",
    "i = 0\n",
    "\n",
    "print(\"Linear Traversal using while loop: \", end=\" \")\n",
    "# Linear Traversal dengan while\n",
    "while i < n:\n",
    "    print(arr[i], end=\" \")\n",
    "    i += 1\n",
    "print()"
   ]
  },
  {
   "cell_type": "code",
   "execution_count": 14,
   "id": "c67bf770",
   "metadata": {},
   "outputs": [
    {
     "name": "stdout",
     "output_type": "stream",
     "text": [
      "Reverse Traversal using while loop:  [5, 4, 3, 2, 1]\n"
     ]
    }
   ],
   "source": [
    "# Praktek 8 : Reverse Traversal dengan Metode While\n",
    "# membuat array\n",
    "arr = [1, 2, 3, 4, 5]\n",
    "\n",
    "# mendeklarasikan nilai awal\n",
    "start = 0\n",
    "end = len(arr) - 1\n",
    "\n",
    "print(\"Reverse Traversal using while loop: \", end=\" \")\n",
    "# Reverse Traversal dengan while\n",
    "while start < end:\n",
    "    # mengubah indeks array\n",
    "    arr[start], arr[end] = arr[end], arr[start]\n",
    "    start += 1\n",
    "    end -= 1\n",
    "print(arr)"
   ]
  },
  {
   "cell_type": "code",
   "execution_count": 18,
   "id": "7496d638",
   "metadata": {},
   "outputs": [
    {
     "name": "stdout",
     "output_type": "stream",
     "text": [
      "Array Sebelum Insertion :  [12, 16, 20, 40, 50, 70]\n",
      "Panjang Array :  6\n",
      "Array Setelah Insertion :  [12, 16, 20, 40, 50, 70, 26]\n",
      "Panjang Array :  7\n"
     ]
    }
   ],
   "source": [
    "# Praktek 9 : Insertion pada akhir elemen array\n",
    "# membuat array\n",
    "arr = [12, 16, 20, 40, 50, 70]\n",
    "\n",
    "# cetak arr sebelum penyisipan\n",
    "print(\"Array Sebelum Insertion : \", arr)\n",
    "\n",
    "# cetak panjang array sebelum penyisipan\n",
    "print(\"Panjang Array : \", len(arr))\n",
    "\n",
    "# menyisipkan array di akhir elemen menggunakan .append()\n",
    "arr.append(26)\n",
    "\n",
    "# cetak arr setelah penyisipan\n",
    "print(\"Array Setelah Insertion : \", arr)\n",
    "\n",
    "# cetak panjang array setelah penyisipan\n",
    "print(\"Panjang Array : \", len(arr))"
   ]
  },
  {
   "cell_type": "code",
   "execution_count": 39,
   "id": "04b51bac",
   "metadata": {},
   "outputs": [
    {
     "name": "stdout",
     "output_type": "stream",
     "text": [
      "Array Sebelum Insertion :  [12, 16, 20, 40, 50, 70]\n",
      "Panjang Array :  6\n",
      "Array Setelah Insertion :  [12, 16, 20, 40, 5, 50, 70]\n",
      "Panjang Array :  7\n"
     ]
    }
   ],
   "source": [
    "# Praktek 10 : Insertion pada tengah elemen array\n",
    "# membuat array\n",
    "arr = [12, 16, 20, 40, 50, 70]\n",
    "\n",
    "# cetak arr sebelum penyisipan\n",
    "print(\"Array Sebelum Insertion : \", arr)\n",
    "\n",
    "# cetak panjang array sebelum penyisipan\n",
    "print(\"Panjang Array : \", len(arr))\n",
    "\n",
    "# menyisipkan array pada tengah elemen menggunakan .insert(pos, x)\n",
    "arr.insert(4, 5)\n",
    "\n",
    "# cetak arr setelah penyisipan\n",
    "print(\"Array Setelah Insertion : \", arr)\n",
    "\n",
    "# cetak panjang array setelah penyisipan\n",
    "print(\"Panjang Array : \", len(arr))\n"
   ]
  },
  {
   "cell_type": "code",
   "execution_count": 41,
   "id": "8e942fba",
   "metadata": {},
   "outputs": [
    {
     "name": "stdout",
     "output_type": "stream",
     "text": [
      "Array Sebelum Penyisipan :  [12, 16, 20, 40, 50, 70]\n",
      "Array Sesudah Penyisipan :  [12, 16, 20, 40, 5, 50, 70]\n"
     ]
    }
   ],
   "source": [
    "# jika tidak menggunakan fungsi .insert()\n",
    "# membuat array dan cetak array\n",
    "arr = [12, 16, 20, 40, 50, 70]\n",
    "print(\"Array Sebelum Penyisipan : \" , arr)\n",
    "\n",
    "# Deklarasi elemen tengah yang disisipkan\n",
    "pos = 4\n",
    "\n",
    "# Deklarasi nilai yang akan disisipkan\n",
    "x = 5\n",
    "\n",
    "# menambah elemen dummy agar menambah panjang array\n",
    "arr.append(0) # arr = [12, 16, 20, 40, 50, 70, 0]\n",
    "\n",
    "# melakukan pergeseran elemen mulai dari belakang\n",
    "for i in range(len(arr) - 2, pos-1, -1):\n",
    "    arr[i + 1] = arr[i]\n",
    "\n",
    "# memasukkan nilai x pada elemen yang diinginkan\n",
    "arr[pos] = x\n",
    "\n",
    "# Cetak array baru\n",
    "print(\"Array Sesudah Penyisipan : \", arr)\n"
   ]
  },
  {
   "cell_type": "code",
   "execution_count": null,
   "id": "b7daf130",
   "metadata": {},
   "outputs": [
    {
     "name": "stdout",
     "output_type": "stream",
     "text": [
      "Array Sebelum Deletion :  [10, 20, 30, 40, 50]\n",
      "Setelah remove(30): [10, 20, 40, 50]\n",
      "Popped element: 20\n",
      "Setelah pop(1): [10, 40, 50]\n",
      "Setelah del a[0]: [40, 50]\n"
     ]
    }
   ],
   "source": [
    "# Praktek 11 : Menghapus array\n",
    "# membuat array\n",
    "a = [10, 20, 30, 40, 50]\n",
    "print(\"Array Sebelum Deletion : \", a)\n",
    "\n",
    "# menghapus elemen array pertama yang nilainya 30\n",
    "a.remove(30)  \n",
    "print(\"Setelah remove(30):\", a)\n",
    "\n",
    "# menghapus elemen array pada index 1 (20)\n",
    "popped_val = a.pop(1)  \n",
    "print(\"Popped element:\", popped_val)\n",
    "print(\"Setelah pop(1):\", a) \n",
    "\n",
    "# Menghapus elemen pertama (10)\n",
    "del a[0]  \n",
    "print(\"Setelah del a[0]:\", a)"
   ]
  },
  {
   "cell_type": "markdown",
   "id": "de086987",
   "metadata": {},
   "source": [
    "# Percobaan 3 : Matriks atau Array 2 dan 3 Dimensi"
   ]
  },
  {
   "cell_type": "code",
   "execution_count": null,
   "id": "a597facd",
   "metadata": {},
   "outputs": [
    {
     "name": "stdout",
     "output_type": "stream",
     "text": [
      "9\n"
     ]
    }
   ],
   "source": [
    "# Praktek 12 : Membuat Matriks 2 Dimensi\n",
    "# impor library numpy\n",
    "import numpy as np\n",
    "\n",
    "# membuat matiks dengan numpy\n",
    "matriks_np = np.array([[1,2,3],\n",
    "                        [4,5,6],\n",
    "                        [7,8,9]])\n",
    "\n",
    "print(matriks_np[2][2])"
   ]
  },
  {
   "cell_type": "code",
   "execution_count": null,
   "id": "a28e4dde",
   "metadata": {},
   "outputs": [
    {
     "name": "stdout",
     "output_type": "stream",
     "text": [
      "Hasil Penjumlahan Matriks dari LIST\n",
      "[17, 15, 4]\n",
      "[10, 12, 9]\n",
      "[11, 13, 18]\n"
     ]
    }
   ],
   "source": [
    "# Praktek 13 : Operasi Penjumlahan Matriks dengan list\n",
    "# Program penjumlahan matriks yang dibuat dari list\n",
    "\n",
    "X = [[12,7,3],\n",
    "    [4,5,6],\n",
    "    [7,8,9]]\n",
    "\n",
    "Y = [[5,8,1],\n",
    "    [6,7,3],\n",
    "    [4,5,9]]\n",
    "\n",
    "result = [[0,0,0],\n",
    "         [0,0,0],\n",
    "         [0,0,0]]\n",
    "\n",
    "# proses penjumlahan dua matriks menggunakan nested loop\n",
    "# mengulang sebanyak row (baris)\n",
    "for i in range(len(X)):\n",
    "   # mengulang sebanyak column (kolom)\n",
    "   for j in range(len(X[0])):\n",
    "       result[i][j] = X[i][j] + Y[i][j]\n",
    "\n",
    "print(\"Hasil Penjumlahan Matriks dari LIST\") \n",
    "\n",
    "# cetak hasil penjumlahan secara iteratif\n",
    "for r in result:   \n",
    "   print(r)"
   ]
  },
  {
   "cell_type": "code",
   "execution_count": null,
   "id": "e95b3cc0",
   "metadata": {},
   "outputs": [
    {
     "name": "stdout",
     "output_type": "stream",
     "text": [
      "Hasil Penjumlahan Matriks dari NumPy\n",
      "[[17 15  4]\n",
      " [10 12  9]\n",
      " [11 13 18]]\n"
     ]
    }
   ],
   "source": [
    "# Praktek 14 : Operasi Penjumlahan Matriks dengan numpy\n",
    "# impor library numpy\n",
    "import numpy as np\n",
    "\n",
    "# Membuat matriks dengan numpy\n",
    "X = np.array([\n",
    "    [12,7,3],\n",
    "    [4,5,6],\n",
    "    [7,8,9]])\n",
    "\n",
    "Y = np.array(\n",
    "    [[5,8,1],\n",
    "    [6,7,3],\n",
    "    [4,5,9]])\n",
    "\n",
    "# Operasi penjumlahan dua matrik numpy\n",
    "result = X + Y\n",
    "\n",
    "# cetak hasil\n",
    "print(\"Hasil Penjumlahan Matriks dari NumPy\")\n",
    "print(result)"
   ]
  },
  {
   "cell_type": "code",
   "execution_count": null,
   "id": "1ce69da6",
   "metadata": {},
   "outputs": [
    {
     "name": "stdout",
     "output_type": "stream",
     "text": [
      "Hasil Pengurangan Matriks dari LIST\n",
      "[[ 7 -1  2]\n",
      " [-2 -2  3]\n",
      " [ 3  3  0]]\n"
     ]
    }
   ],
   "source": [
    "# Praktek 15 : Operasi Pengurangan Matriks dengan numpy\n",
    "# impor library numpy\n",
    "import numpy as np\n",
    "\n",
    "# Membuat matriks dengan numpy\n",
    "X = np.array([\n",
    "    [12,7,3],\n",
    "    [4,5,6],\n",
    "    [7,8,9]])\n",
    "\n",
    "Y = np.array(\n",
    "    [[5,8,1],\n",
    "    [6,7,3],\n",
    "    [4,5,9]])\n",
    "\n",
    "# Operasi pengurangan dua matrik numpy\n",
    "result = X - Y\n",
    "\n",
    "# cetak hasil\n",
    "print(\"Hasil Pengurangan Matriks dari NumPy\")\n",
    "print(result)"
   ]
  },
  {
   "cell_type": "code",
   "execution_count": null,
   "id": "7e86dd5f",
   "metadata": {},
   "outputs": [
    {
     "name": "stdout",
     "output_type": "stream",
     "text": [
      "Hasil Perkalian Matriks dari LIST\n",
      "[[60 56  3]\n",
      " [24 35 18]\n",
      " [28 40 81]]\n"
     ]
    }
   ],
   "source": [
    "# Praktek 16 : Operasi Perkalian Matriks dengan numpy\n",
    "# impor library numpy\n",
    "import numpy as np\n",
    "\n",
    "# Membuat matriks dengan numpy\n",
    "X = np.array([\n",
    "    [12,7,3],\n",
    "    [4,5,6],\n",
    "    [7,8,9]])\n",
    "\n",
    "Y = np.array(\n",
    "    [[5,8,1],\n",
    "    [6,7,3],\n",
    "    [4,5,9]])\n",
    "\n",
    "# Operasi perkalian dua matrik numpy\n",
    "result = X * Y\n",
    "\n",
    "# cetak hasil\n",
    "print(\"Hasil Perkalian Matriks dari NumPy\")\n",
    "print(result)"
   ]
  },
  {
   "cell_type": "code",
   "execution_count": null,
   "id": "dc1dfd2f",
   "metadata": {},
   "outputs": [
    {
     "name": "stdout",
     "output_type": "stream",
     "text": [
      "Hasil Pembagian Matriks dari LIST\n",
      "[[2.4        0.875      3.        ]\n",
      " [0.66666667 0.71428571 2.        ]\n",
      " [1.75       1.6        1.        ]]\n"
     ]
    }
   ],
   "source": [
    "# Praktek 17 : Operasi Pembagian Matriks dengan numpy\n",
    "# impor library numpy\n",
    "import numpy as np\n",
    "\n",
    "# Membuat matriks dengan numpy\n",
    "X = np.array([\n",
    "    [12,7,3],\n",
    "    [4,5,6],\n",
    "    [7,8,9]])\n",
    "\n",
    "Y = np.array(\n",
    "    [[5,8,1],\n",
    "    [6,7,3],\n",
    "    [4,5,9]])\n",
    "\n",
    "# Operasi pembagian dua matrik numpy\n",
    "result = X / Y\n",
    "\n",
    "# cetak hasil\n",
    "print(\"Hasil Pembagian Matriks dari NumPy\")\n",
    "print(result)"
   ]
  },
  {
   "cell_type": "code",
   "execution_count": 45,
   "id": "f95fe0a0",
   "metadata": {},
   "outputs": [
    {
     "name": "stdout",
     "output_type": "stream",
     "text": [
      "Matriks Sebelum Transpose\n",
      "[[1 2 3]\n",
      " [4 5 6]\n",
      " [7 8 9]]\n",
      "Matriks Setelah Transpose\n",
      "[[1 4 7]\n",
      " [2 5 8]\n",
      " [3 6 9]]\n"
     ]
    }
   ],
   "source": [
    "# Praktek 18 : transpose()\n",
    "# impor library numpy\n",
    "import numpy as np\n",
    "\n",
    "# membuat matriks\n",
    "matriks_a = np.array([\n",
    "    [1, 2, 3],\n",
    "    [4, 5, 6],\n",
    "    [7, 8, 9]\n",
    "])\n",
    "\n",
    "# cetak matriks\n",
    "print(\"Matriks Sebelum Transpose\")\n",
    "print(matriks_a)\n",
    "\n",
    "# transpose matriks_a\n",
    "balik = matriks_a.transpose()\n",
    "\n",
    "# cetak matriks setelah dibalik\n",
    "print(\"Matriks Setelah Transpose\")\n",
    "print(balik)"
   ]
  },
  {
   "cell_type": "code",
   "execution_count": 60,
   "id": "24bb4e20",
   "metadata": {},
   "outputs": [
    {
     "name": "stdout",
     "output_type": "stream",
     "text": [
      "Matriks Sebelum Reshape\n",
      "[ 50  70  89  99 103  35]\n",
      "Ukuran Matriks :  (6,)\n",
      "\n",
      "\n",
      "Matriks Setelah Reshape\n",
      "[[ 50  70]\n",
      " [ 89  99]\n",
      " [103  35]]\n",
      "Ukuran Matriks :  (3, 2)\n"
     ]
    }
   ],
   "source": [
    "# Praktek 19 : reshape()\n",
    "# impor library numpy\n",
    "import numpy as np\n",
    "\n",
    "# membuat array 1 dimensi\n",
    "arr_1d = np.array([50, 70, 89, 99, 103, 35])\n",
    "\n",
    "# cetak matriks sebelum reshape\n",
    "print(\"Matriks Sebelum Reshape\")\n",
    "print(arr_1d)\n",
    "print(\"Ukuran Matriks : \", arr_1d.shape)\n",
    "print(\"\\n\")\n",
    "\n",
    "# mengubah matriks menjadi ordo 3 x 2\n",
    "ubah = arr_1d.reshape(3, 2)\n",
    "\n",
    "# cetak matriks setelah reshape ke ordo 3 x 2\n",
    "print(\"Matriks Setelah Reshape\")\n",
    "print(ubah)\n",
    "print(\"Ukuran Matriks : \", ubah.shape)\n"
   ]
  },
  {
   "cell_type": "code",
   "execution_count": null,
   "id": "e9170a70",
   "metadata": {},
   "outputs": [
    {
     "name": "stdout",
     "output_type": "stream",
     "text": [
      "Vektor Baris\n",
      "[1 2 3]\n",
      "vektor Kolom\n",
      "[[1]\n",
      " [2]\n",
      " [3]]\n",
      "Vektor Kolom dengan transpose()\n",
      "[[1]\n",
      " [2]\n",
      " [3]]\n"
     ]
    }
   ],
   "source": [
    "# Praktek 20 : Vektor\n",
    "# vektor baris\n",
    "vek_1 = np.array([1, 2, 3])\n",
    "\n",
    "# vektor kolom\n",
    "vek_2 = np.array([[1], \n",
    "                  [2], \n",
    "                  [3]])\n",
    "# atau menggunakan transpose()\n",
    "vek_3 = np.array([[1, 2, 3]]).T\n",
    "\n",
    "print(\"Vektor Baris\")\n",
    "print(vek_1)\n",
    "print(\"vektor Kolom\")\n",
    "print(vek_2)\n",
    "print(\"Vektor Kolom dengan transpose()\")\n",
    "print(vek_3)"
   ]
  },
  {
   "cell_type": "code",
   "execution_count": 64,
   "id": "d6a6a3f1",
   "metadata": {},
   "outputs": [
    {
     "name": "stdout",
     "output_type": "stream",
     "text": [
      "Matriks Awal\n",
      "[[1 2 3]\n",
      " [4 5 6]\n",
      " [7 8 9]]\n",
      "Ukuran :  (3, 3)\n",
      "\n",
      "\n",
      "Hasil Konversi Matriks ke Vektor\n",
      "[1 2 3 4 5 6 7 8 9]\n",
      "Ukuran :  (9,)\n"
     ]
    }
   ],
   "source": [
    "# Praktek 21 : Flatten()\n",
    "# impor library numpy\n",
    "import numpy as np\n",
    "\n",
    "# membuat matriks\n",
    "matriks_a = np.array([\n",
    "    [1, 2, 3],\n",
    "    [4, 5, 6],\n",
    "    [7, 8, 9]\n",
    "])\n",
    "\n",
    "# cetak matriks awal\n",
    "print(\"Matriks Awal\")\n",
    "print(matriks_a)\n",
    "print(\"Ukuran : \", matriks_a.shape)\n",
    "print(\"\\n\")\n",
    "\n",
    "# ubah matriks menjadi vektor\n",
    "jd_vektor = matriks_a.flatten()\n",
    "\n",
    "# cetak vektor\n",
    "print(\"Hasil Konversi Matriks ke Vektor\")\n",
    "print(jd_vektor)\n",
    "print(\"Ukuran : \", jd_vektor.shape)"
   ]
  },
  {
   "cell_type": "markdown",
   "id": "5f5644c1",
   "metadata": {},
   "source": [
    "# Percobaan 4 : Single Linked-List"
   ]
  },
  {
   "cell_type": "code",
   "execution_count": 55,
   "id": "a8d29488",
   "metadata": {},
   "outputs": [
    {
     "name": "stdout",
     "output_type": "stream",
     "text": [
      "Linked-List : \n",
      "Head → 10 → 11 → 12 → NULL\n"
     ]
    }
   ],
   "source": [
    "# Praktek 22 : Membuat Single Linked-list\n",
    "\n",
    "# function untuk membuat node\n",
    "def buat_node(data):\n",
    "    return {'data': data, 'next': None}\n",
    "\n",
    "# menambahkan node di akhir list\n",
    "def tambah_node(head, data):\n",
    "    new_node = buat_node(data)\n",
    "    if head is None:\n",
    "        return new_node\n",
    "    current = head\n",
    "    while current['next'] is not None:\n",
    "        current = current['next']\n",
    "    current['next'] = new_node\n",
    "    return head\n",
    "\n",
    "# menampilkan linked-list\n",
    "def cetak_linked_list(head):\n",
    "    current = head\n",
    "    print('Head', end=' → ')\n",
    "    while current is not None:\n",
    "        print(current['data'], end=' → ')\n",
    "        current = current['next']\n",
    "    print(\"NULL\")\n",
    "\n",
    "# Contoh Penerapan\n",
    "# Head awal dari linked-list\n",
    "head = None\n",
    "\n",
    "# Tambah node\n",
    "head = tambah_node(head, 10)\n",
    "head = tambah_node(head, 11)\n",
    "head = tambah_node(head, 12)\n",
    "\n",
    "# cetak linked-list\n",
    "print('Linked-List : ')\n",
    "cetak_linked_list(head)\n"
   ]
  },
  {
   "cell_type": "code",
   "execution_count": 46,
   "id": "ab0c14bf",
   "metadata": {},
   "outputs": [
    {
     "name": "stdout",
     "output_type": "stream",
     "text": [
      "Isi Linked-List\n",
      "Head → 10 → 15 → 117 → 19 → NULL\n",
      "Jumlah Nodes =  4\n",
      "HEAD Node :  10\n",
      "TAIL Node :  19\n"
     ]
    }
   ],
   "source": [
    "# Praktek 23 : Traversal Linked-list\n",
    "# function untuk membuat node\n",
    "def buat_node(data):\n",
    "    return {'data': data, 'next': None}\n",
    "\n",
    "# menambahkan node di akhir list\n",
    "def tambah_node(head, data):\n",
    "    new_node = buat_node(data)\n",
    "    if head is None:\n",
    "        return new_node\n",
    "    current = head\n",
    "    while current['next'] is not None:\n",
    "        current = current['next']\n",
    "    current['next'] = new_node\n",
    "    return head\n",
    "\n",
    "# traversal untuk cetak isi linked-list\n",
    "def traversal_to_display(head):\n",
    "    current = head\n",
    "    print('Head', end=' → ')\n",
    "    while current is not None:\n",
    "        print(current['data'], end=' → ')\n",
    "        current = current['next']\n",
    "    print(\"NULL\")\n",
    "    \n",
    "# traversal untuk menghitung jumlah elemen dalam linked-list\n",
    "def traversal_to_count_nodes(head):\n",
    "    count = 0\n",
    "    current = head\n",
    "    while current is not None:\n",
    "        count += 1\n",
    "        current = current['next']\n",
    "    return count\n",
    "\n",
    "# traversal untuk mencari dimana tail (node terakhir)\n",
    "def traversal_to_get_tail(head):\n",
    "    if head is None:\n",
    "        return None\n",
    "    current = head\n",
    "    while current['next'] is not None:\n",
    "        current = current['next']\n",
    "    return current\n",
    "\n",
    "# Penerapan\n",
    "head = None\n",
    "head = tambah_node(head, 10)\n",
    "head = tambah_node(head, 15)\n",
    "head = tambah_node(head, 117)\n",
    "head = tambah_node(head, 19)\n",
    "\n",
    "# cetak isi linked-list\n",
    "print(\"Isi Linked-List\")\n",
    "traversal_to_display(head)\n",
    "\n",
    "# cetak jumlah node \n",
    "print(\"Jumlah Nodes = \", traversal_to_count_nodes(head))\n",
    "\n",
    "# cetak HEAD node\n",
    "print(\"HEAD Node : \", head['data'])\n",
    "\n",
    "# cetak TAIL NODE\n",
    "print(\"TAIL Node : \", traversal_to_get_tail(head)['data'])"
   ]
  },
  {
   "cell_type": "code",
   "execution_count": null,
   "id": "e92993e4",
   "metadata": {},
   "outputs": [
    {
     "name": "stdout",
     "output_type": "stream",
     "text": [
      "Isi Linked-List Sebelum Penyisipan di Depan\n",
      "Head → 10 → 20 → 30 → NULL\n",
      "\n",
      "Data Yang Disispkan :  99\n",
      "\n",
      "Isi Linked-List Setelah Penyisipan di Depan\n",
      "Head → 99 → 10 → 20 → 30 → NULL\n"
     ]
    }
   ],
   "source": [
    "# Praktek 24 : Menyisipkan Node di awal Linked-List\n",
    "# membuat node baru\n",
    "def sisip_depan(head, data):\n",
    "    new_node = {'data': data, 'next': head}\n",
    "    return new_node\n",
    "\n",
    "# menampilkan linked-list\n",
    "def cetak_linked_list(head):\n",
    "    current = head\n",
    "    print('Head', end=' → ')\n",
    "    while current is not None:\n",
    "        print(current['data'], end=' → ')\n",
    "        current = current['next']\n",
    "    print(\"NULL\")\n",
    "\n",
    "# Penerapan membuat linked-list awal\n",
    "head = None\n",
    "head = sisip_depan(head, 30)\n",
    "head = sisip_depan(head, 20)\n",
    "head = sisip_depan(head, 10)\n",
    "\n",
    "# cetak isi linked-list awal\n",
    "print(\"Isi Linked-List Sebelum Penyisipan di Depan\")\n",
    "cetak = cetak_linked_list(head)\n",
    "\n",
    "# Penyisipan node \n",
    "data = 99\n",
    "head = sisip_depan(head, data)\n",
    "\n",
    "print(\"\\nData Yang Disispkan : \", data)\n",
    "\n",
    "# cetak isi setelah penyisipan node baru di awal \n",
    "print(\"\\nIsi Linked-List Setelah Penyisipan di Depan\")\n",
    "cetak_linked_list(head)\n"
   ]
  },
  {
   "cell_type": "code",
   "execution_count": null,
   "id": "b73672e6",
   "metadata": {},
   "outputs": [
    {
     "name": "stdout",
     "output_type": "stream",
     "text": [
      "Isi Linked-List Sebelum Penyisipan\n",
      "Head → 70 → 50 → 10 → 20 → 30 → NULL\n",
      "\n",
      "Data Yang Disispkan :  99\n",
      "Pada posisi :  3 \n",
      "\n",
      "Isi Linked-List Setelah Penyisipan di tengah\n",
      "Head → 70 → 50 → 10 → 99 → 20 → 30 → NULL\n"
     ]
    }
   ],
   "source": [
    "# Praktek 25 : Menyisipkan diposisi manapun\n",
    "# membuat node baru\n",
    "def sisip_depan(head, data):\n",
    "    new_node = {'data': data, 'next': head}\n",
    "    return new_node\n",
    "\n",
    "# sisip node diposisi mana saja\n",
    "def sisip_dimana_aja(head, data, position):\n",
    "    new_node = {'data': data, 'next': None}\n",
    "    \n",
    "    # cek jika posisi di awal pakai fungsi sisip_depan() \n",
    "    if position == 0:\n",
    "        return sisip_depan(head, data)\n",
    "    \n",
    "    current = head\n",
    "    index = 0\n",
    "    \n",
    "    # traversal menuju posisi yang diinginkan dan bukan posisi 0\n",
    "    while current is not None and index < position - 1:\n",
    "        current = current['next']\n",
    "        index += 1\n",
    "    \n",
    "    if current is None:\n",
    "        print(\"Posisi melebihi panjang linked list!\")\n",
    "        return head\n",
    "\n",
    "    # ubah next dari node sebelumnya menjadi node baru\n",
    "    new_node['next'] = current['next']\n",
    "    current['next'] = new_node\n",
    "    return head\n",
    "\n",
    "## menampilkan linked-list\n",
    "def cetak_linked_list(head):\n",
    "    current = head\n",
    "    print('Head', end=' → ')\n",
    "    while current is not None:\n",
    "        print(current['data'], end=' → ')\n",
    "        current = current['next']\n",
    "    print(\"NULL\")\n",
    "\n",
    "# Penerapan \n",
    "# membuat linked-list awal \n",
    "head = None\n",
    "head = sisip_depan(head, 30)\n",
    "head = sisip_depan(head, 20)\n",
    "head = sisip_depan(head, 10)\n",
    "head = sisip_depan(head, 50)\n",
    "head = sisip_depan(head, 70)\n",
    "\n",
    "# cetak isi linked-list awal\n",
    "print(\"Isi Linked-List Sebelum Penyisipan\")\n",
    "cetak = cetak_linked_list(head)\n",
    "\n",
    "# Penyisipan node \n",
    "data = 99\n",
    "pos = 3\n",
    "head = sisip_dimana_aja(head, data, pos)\n",
    "\n",
    "print(\"\\nData Yang Disispkan : \", data)\n",
    "print(\"Pada posisi : \", pos, \"\")\n",
    "\n",
    "# cetak isi setelah penyisipan node baru di awal \n",
    "print(\"\\nIsi Linked-List Setelah Penyisipan di tengah\")\n",
    "cetak_linked_list(head)"
   ]
  },
  {
   "cell_type": "code",
   "execution_count": 49,
   "id": "c68bdf4f",
   "metadata": {},
   "outputs": [
    {
     "name": "stdout",
     "output_type": "stream",
     "text": [
      "Isi Linked-List Sebelum Penghapusan\n",
      "Head → 70 → 50 → 10 → 20 → 30 → NULL\n",
      "\n",
      "Node dengan data '70' dihapus dari head linked-list\n",
      "Isi Linked-List Setelah Penghapusan Head \n",
      "Head → 50 → 10 → 20 → 30 → NULL\n"
     ]
    }
   ],
   "source": [
    "# Praktek 26 : Penghapusan node di awal linked-list\n",
    "# membuat node baru\n",
    "def sisip_depan(head, data):\n",
    "    new_node = {'data': data, 'next': head}\n",
    "    return new_node\n",
    "\n",
    "# sisip node diposisi mana saja\n",
    "def sisip_dimana_aja(head, data, position):\n",
    "    new_node = {'data': data, 'next': None}\n",
    "    \n",
    "    # cek jika posisi di awal pakai fungsi sisip_depan() \n",
    "    if position == 0:\n",
    "        return sisip_depan(head, data)\n",
    "    \n",
    "    current = head\n",
    "    index = 0\n",
    "    \n",
    "    # traversal menuju posisi yang diinginkan dan bukan posisi 0\n",
    "    while current is not None and index < position - 1:\n",
    "        current = current['next']\n",
    "        index += 1\n",
    "    \n",
    "    if current is None:\n",
    "        print(\"Posisi melebihi panjang linked list!\")\n",
    "        return head\n",
    "\n",
    "    # ubah next dari node sebelumnya menjadi node baru\n",
    "    new_node['next'] = current['next']\n",
    "    current['next'] = new_node\n",
    "    return head\n",
    "\n",
    "# menghapus head node dan mengembalikan head baru\n",
    "def hapus_head(head):\n",
    "    # cek apakah list kosong\n",
    "    if head is None:\n",
    "        print(\"Linked-List kosong, tidak ada yang bisa\")\n",
    "        return None\n",
    "    print(f\"\\nNode dengan data '{head['data']}' dihapus dari head linked-list\")\n",
    "    return head['next']\n",
    "\n",
    "## menampilkan linked-list\n",
    "def cetak_linked_list(head):\n",
    "    current = head\n",
    "    print('Head', end=' → ')\n",
    "    while current is not None:\n",
    "        print(current['data'], end=' → ')\n",
    "        current = current['next']\n",
    "    print(\"NULL\")\n",
    "\n",
    "# Penerapan \n",
    "# membuat linked-list awal \n",
    "head = None\n",
    "head = sisip_depan(head, 30) # tail\n",
    "head = sisip_depan(head, 20)\n",
    "head = sisip_depan(head, 10)\n",
    "head = sisip_depan(head, 50)\n",
    "head = sisip_depan(head, 70) # head \n",
    "\n",
    "# cetak isi linked-list awal\n",
    "print(\"Isi Linked-List Sebelum Penghapusan\")\n",
    "cetak_linked_list(head)\n",
    "\n",
    "# Penghapusan head linked-list\n",
    "head = hapus_head(head)\n",
    "\n",
    "# cetak isi setelah hapus head linked-list \n",
    "print(\"Isi Linked-List Setelah Penghapusan Head \")\n",
    "cetak_linked_list(head)"
   ]
  },
  {
   "cell_type": "code",
   "execution_count": 50,
   "id": "41f56a1c",
   "metadata": {},
   "outputs": [
    {
     "name": "stdout",
     "output_type": "stream",
     "text": [
      "Isi Linked-List Sebelum Penghapusan\n",
      "Head → 70 → 50 → 10 → 20 → 30 → NULL\n",
      "\n",
      "Node dengan data '30' dihapus dari akhir.\n",
      "Isi Linked-List Setelah Penghapusan Tail \n",
      "Head → 70 → 50 → 10 → 20 → NULL\n"
     ]
    }
   ],
   "source": [
    "# Praktek 27 : Menghapus node Tail\n",
    "# membuat node baru\n",
    "def sisip_depan(head, data):\n",
    "    new_node = {'data': data, 'next': head}\n",
    "    return new_node\n",
    "\n",
    "# menghapus head node dan mengembalikan head baru\n",
    "def hapus_tail(head):\n",
    "    # cek apakah head node == None\n",
    "    if head is None:\n",
    "        print('Linked-List Kosong, tidak ada yang bisa dihapus!')\n",
    "        return None\n",
    "    \n",
    "    # cek node hanya 1 \n",
    "    if head['next'] is None:\n",
    "        print(f\"Node dengan data '{head['data']}' dihapus. Linked list sekarang kosong.\")\n",
    "        return None\n",
    "    \n",
    "    current = head\n",
    "    while current['next']['next'] is not None:\n",
    "        current = current['next']\n",
    "        \n",
    "    print(f\"\\nNode dengan data '{current['next']['data']}' dihapus dari akhir.\")\n",
    "    current['next'] = None\n",
    "    return head    \n",
    "\n",
    "## menampilkan linked-list\n",
    "def cetak_linked_list(head):\n",
    "    current = head\n",
    "    print('Head', end=' → ')\n",
    "    while current is not None:\n",
    "        print(current['data'], end=' → ')\n",
    "        current = current['next']\n",
    "    print(\"NULL\")\n",
    "\n",
    "# Penerapan \n",
    "# membuat linked-list awal \n",
    "head = None\n",
    "head = sisip_depan(head, 30) # tail\n",
    "head = sisip_depan(head, 20)\n",
    "head = sisip_depan(head, 10)\n",
    "head = sisip_depan(head, 50)\n",
    "head = sisip_depan(head, 70) # head \n",
    "\n",
    "# cetak isi linked-list awal\n",
    "print(\"Isi Linked-List Sebelum Penghapusan\")\n",
    "cetak_linked_list(head)\n",
    "\n",
    "# Penghapusan tail linked-list\n",
    "head = hapus_tail(head)\n",
    "\n",
    "# cetak isi setelah hapus Tail linked-list \n",
    "print(\"Isi Linked-List Setelah Penghapusan Tail \")\n",
    "cetak_linked_list(head)"
   ]
  },
  {
   "cell_type": "code",
   "execution_count": 51,
   "id": "8e0eb275",
   "metadata": {},
   "outputs": [
    {
     "name": "stdout",
     "output_type": "stream",
     "text": [
      "Isi Linked-List Sebelum Penghapusan\n",
      "Head → 70 → 50 → 10 → 20 → 30 → NULL\n",
      "\n",
      "Node dengan data '10' dihapus dari posisi 2.\n",
      "\n",
      "Isi Linked-List Setelah Penghapusan Tengah \n",
      "Head → 70 → 50 → 20 → 30 → NULL\n"
     ]
    }
   ],
   "source": [
    "# Praktek 28 : Menghapus node di posisi manapun (tengah)\n",
    "# membuat node baru\n",
    "def sisip_depan(head, data):\n",
    "    new_node = {'data': data, 'next': head}\n",
    "    return new_node\n",
    "\n",
    "# menghapus head node dan mengembalikan head baru\n",
    "def hapus_head(head):\n",
    "    # cek apakah list kosong\n",
    "    if head is None:\n",
    "        print(\"Linked-List kosong, tidak ada yang bisa\")\n",
    "        return None\n",
    "    print(f\"\\nNode dengan data '{head['data']}' dihapus dari head linked-list\")\n",
    "    return head['next']\n",
    "\n",
    "# menghapus node pada posisi manapun (tengah)\n",
    "def hapus_tengah(head, position):\n",
    "    # cek apakah head node == None\n",
    "    if head is None:\n",
    "        print('\\nLinked-List Kosong, tidak ada yang bisa dihapus!')\n",
    "        return None\n",
    "    \n",
    "    # cek apakah posisi < 0\n",
    "    if position < 0:\n",
    "        print('\\nPosisi Tidak Valid')\n",
    "        return head\n",
    "    \n",
    "    # Cek apakah posisi = 0 \n",
    "    if position == 0:\n",
    "        print(f\"Node dengan data '{head['data']}' dihapus dari posisi 0.\")\n",
    "        hapus_head(head)\n",
    "        return head['next']\n",
    "    \n",
    "    current = head\n",
    "    index = 0\n",
    "    \n",
    "    # cari node sebelum posisi target\n",
    "    while current is not None and index < position -1:\n",
    "        current = current['next']\n",
    "        index += 1\n",
    "        \n",
    "    # Jika posisi yang diinputkan lebih besar dari panjang list\n",
    "    if current is None or current['next'] is None:\n",
    "        print(\"\\nPosisi melebih panjang dari linked-list\")\n",
    "        return head\n",
    "    \n",
    "    print(f\"\\nNode dengan data '{current['next']['data']}' dihapus dari posisi {position}.\")\n",
    "    current['next'] = current['next']['next']\n",
    "    return head\n",
    "\n",
    "## menampilkan linked-list\n",
    "def cetak_linked_list(head):\n",
    "    current = head\n",
    "    print('Head', end=' → ')\n",
    "    while current is not None:\n",
    "        print(current['data'], end=' → ')\n",
    "        current = current['next']\n",
    "    print(\"NULL\")\n",
    "\n",
    "# Penerapan \n",
    "# membuat linked-list awal \n",
    "head = None\n",
    "head = sisip_depan(head, 30) # tail\n",
    "head = sisip_depan(head, 20)\n",
    "head = sisip_depan(head, 10)\n",
    "head = sisip_depan(head, 50)\n",
    "head = sisip_depan(head, 70) # head \n",
    "\n",
    "# cetak isi linked-list awal\n",
    "print(\"Isi Linked-List Sebelum Penghapusan\")\n",
    "cetak_linked_list(head)\n",
    "\n",
    "# Penghapusan ditengah linked-list\n",
    "head = hapus_tengah(head, 2)\n",
    "\n",
    "# cetak isi setelah hapus tengah linked-list \n",
    "print(\"\\nIsi Linked-List Setelah Penghapusan Tengah \")\n",
    "cetak_linked_list(head)"
   ]
  },
  {
   "cell_type": "markdown",
   "id": "2fc94cda",
   "metadata": {},
   "source": [
    "# Percobaan 5 : Double Linked-List"
   ]
  },
  {
   "cell_type": "code",
   "execution_count": 1,
   "id": "6bfd33db",
   "metadata": {},
   "outputs": [
    {
     "name": "stdout",
     "output_type": "stream",
     "text": [
      "Double Linked-list Awal Sebelum Penyisipan : \n",
      "HEAD <-> 19 <-> 16 <-> NULL\n",
      "\n",
      "Double Linked-list Awal Setelah Penyisipan: \n",
      "HEAD <-> 99 <-> 22 <-> 19 <-> 16 <-> NULL\n"
     ]
    }
   ],
   "source": [
    "# Praktek 29 : Membuat Double Linked-List di Awal\n",
    "# membuat node baru\n",
    "def buat_node_double(data):\n",
    "    return {'data': data, 'prev': head, 'next': None}\n",
    "\n",
    "# Menambahkan node baru di awal double linked-list\n",
    "def tambah_node_depan(head, data):\n",
    "    new_node = buat_node_double(data)\n",
    "    new_node['next'] = head\n",
    "    new_node['prev'] = None\n",
    "    \n",
    "    if head is not None:\n",
    "        head['prev'] = new_node\n",
    "        \n",
    "    return new_node\n",
    "\n",
    "# Mencetak double linked-list dengan traversal maju\n",
    "def cetak_dll(head):\n",
    "    current = head\n",
    "    print('HEAD', end=' <-> ')\n",
    "    while current:\n",
    "        print(current['data'], end=' <-> ')\n",
    "        current = current['next']\n",
    "    print('NULL')\n",
    "    \n",
    "# Penerapannya \n",
    "# Head awal dari linked-list\n",
    "head = None\n",
    "\n",
    "# Tambah Node\n",
    "head = tambah_node_depan(head, 16) # 16\n",
    "head = tambah_node_depan(head, 19) # 16 <-> 19\n",
    "\n",
    "# Cetak double linked-list sebelum penyisipan di awal node\n",
    "print(\"Double Linked-list Awal Sebelum Penyisipan : \\n\", end='')\n",
    "cetak_dll(head)\n",
    "\n",
    "# Tambah Node didepan double linked-list\n",
    "head = tambah_node_depan(head, 22) # 16 <-> 19 <-> 22\n",
    "head = tambah_node_depan(head, 99) # 16 <-> 19 <-> 22 <-> 99\n",
    "\n",
    "# Cetak double linked-list setelah penyisipan di awal node\n",
    "print(\"\\nDouble Linked-list Awal Setelah Penyisipan: \\n\", end='')\n",
    "cetak_dll(head)"
   ]
  },
  {
   "cell_type": "code",
   "execution_count": 4,
   "id": "61807891",
   "metadata": {},
   "outputs": [
    {
     "name": "stdout",
     "output_type": "stream",
     "text": [
      "Double Linked-list Sebelum Penyisipan diakhir: \n",
      "HEAD <-> 19 <-> 16 <-> NULL\n",
      "\n",
      "Double Linked-list Setelah Penyisipan diakhir: \n",
      "HEAD <-> 19 <-> 16 <-> 22 <-> 99 <-> NULL\n"
     ]
    }
   ],
   "source": [
    "# Praktek 30 : Membuat Double Linked-List di Akhir\n",
    "# membuat node baru\n",
    "def buat_node_double(data):\n",
    "    return {'data': data, 'prev': head, 'next': None}\n",
    "\n",
    "# Menambahkan node baru di akhir double linked-list\n",
    "def tambah_node_akhir(head, data):\n",
    "    new_node = buat_node_double(data)\n",
    "\n",
    "    # Jika list kosong\n",
    "    if head is None:\n",
    "        return new_node\n",
    "\n",
    "    # Jika list tidak kosong, cari node terakhir\n",
    "    current = head\n",
    "    while current['next'] is not None:\n",
    "        current = current['next']\n",
    "\n",
    "    # Sambungkan node terakhir ke node baru\n",
    "    current['next'] = new_node\n",
    "    new_node['prev'] = current\n",
    "\n",
    "    return head\n",
    "\n",
    "\n",
    "# Mencetak double linked-list dengan traversal maju\n",
    "def cetak_dll(head):\n",
    "    current = head\n",
    "    print('HEAD', end=' <-> ')\n",
    "    while current:\n",
    "        print(current['data'], end=' <-> ')\n",
    "        current = current['next']\n",
    "    print('NULL')\n",
    "    \n",
    "# Penerapannya \n",
    "# Head awal dari linked-list\n",
    "head = None\n",
    "\n",
    "# Tambah Node\n",
    "head = tambah_node_depan(head, 16) # 16\n",
    "head = tambah_node_depan(head, 19) # 19 <-> 16\n",
    "\n",
    "# Cetak double linked-list sebelum penyisipan di akhir node\n",
    "print(\"Double Linked-list Sebelum Penyisipan diakhir: \\n\", end='')\n",
    "cetak_dll(head)\n",
    "\n",
    "# Tambah Node diakhir double linked-list\n",
    "head = tambah_node_akhir(head, 22) # 19 <-> 16 <-> 22 \n",
    "head = tambah_node_akhir(head, 99) # 19 <-> 16 <-> 22  <-> 19 \n",
    "\n",
    "# Cetak double linked-list setelah penyisipan di akhir node\n",
    "print(\"\\nDouble Linked-list Setelah Penyisipan diakhir: \\n\", end='')\n",
    "cetak_dll(head)"
   ]
  },
  {
   "cell_type": "code",
   "execution_count": null,
   "id": "c74c0615",
   "metadata": {},
   "outputs": [
    {
     "name": "stdout",
     "output_type": "stream",
     "text": [
      "Double Linked-list Awal Sebelum Penyisipan Tengah: \n",
      "HEAD <-> 19 <-> 16 <-> NULL\n",
      "\n",
      "Double Linked-list Awal Setelah Penyisipan Tengah: \n",
      "HEAD <-> 19 <-> 10 <-> 30 <-> 22 <-> 16 <-> NULL\n"
     ]
    }
   ],
   "source": [
    "# Praktek 31 : Menyisipakan Node Baru di Tengah Double Linked-list\n",
    "# membuat node baru\n",
    "def buat_node_double(data):\n",
    "    return {'data': data, 'prev': head, 'next': None}\n",
    "\n",
    "# Menambahkan node baru di awal double linked-list\n",
    "def tambah_node_depan(head, data):\n",
    "    new_node = buat_node_double(data)\n",
    "    new_node['next'] = head\n",
    "    new_node['prev'] = None\n",
    "    \n",
    "    if head is not None:\n",
    "        head['prev'] = new_node\n",
    "        \n",
    "    return new_node\n",
    "\n",
    "# sisip node diposisi mana saja\n",
    "def sisip_double_dimana_aja(head, data, position):\n",
    "    # membuat node baru\n",
    "    new_node = buat_node_double(data)\n",
    "    \n",
    "    # cek jika posisi = 0 gunakan fungsi tambah_node_depan()\n",
    "    if position == 0:\n",
    "        return tambah_node_depan(head, data)\n",
    "    \n",
    "    # cek jika posisi < 0, input tidak valid\n",
    "    if position < 0:\n",
    "        print('\\nPosisi Tidak Valid')\n",
    "        return head\n",
    "    \n",
    "    # deklarasi node pertama\n",
    "    current = head\n",
    "    index = 1\n",
    "    \n",
    "    # traversal menuju posisi yang diinginkan dan bukan posisi 0\n",
    "    while current is not None and index < position - 1:\n",
    "        current = current['next']\n",
    "        index += 1\n",
    "        \n",
    "    # validasi posisi\n",
    "    if current is None:\n",
    "        print(\"Posisi melebihi panjang linked list!\")\n",
    "        return head\n",
    "    \n",
    "    # sisipkan node diantara current dan current.next\n",
    "    next_node = current['next']\n",
    "    current['next'] = new_node\n",
    "    new_node['prev'] = current\n",
    "    new_node['next'] = next_node\n",
    "    if next_node is not None:\n",
    "        next_node['prev'] = new_node\n",
    "        \n",
    "        \n",
    "    return head\n",
    "\n",
    "# Mencetak double linked-list dengan traversal maju\n",
    "def cetak_dll(head):\n",
    "    current = head\n",
    "    print('HEAD', end=' <-> ')\n",
    "    while current:\n",
    "        print(current['data'], end=' <-> ')\n",
    "        current = current['next']\n",
    "    print('NULL')\n",
    "    \n",
    "# Penerapannya \n",
    "# Head awal dari linked-list\n",
    "head = None\n",
    "\n",
    "# Tambah Node\n",
    "head = tambah_node_depan(head, 16) # 16\n",
    "head = tambah_node_depan(head, 19) # 16 <-> 19\n",
    "\n",
    "# Cetak double linked-list sebelum penyisipan di awal node\n",
    "print(\"Double Linked-list Awal Sebelum Penyisipan Tengah: \\n\", end='')\n",
    "cetak_dll(head)\n",
    "\n",
    "# Tambah Node pada posisi mana saja, di double linked-list\n",
    "head = sisip_double_dimana_aja(head, 22, 1) # 19 <-> 22 <-> 16\n",
    "head = sisip_double_dimana_aja(head, 10, 2) # 19 <-> 10 <-> 22 <-> 16\n",
    "head = sisip_double_dimana_aja(head, 30, 3) # 9 <-> 10 <-> 30 <-> 22 <-> 16\n",
    "\n",
    "# Cetak double linked-list setelah penyisipan di awal node\n",
    "print(\"\\nDouble Linked-list Awal Setelah Penyisipan Tengah: \\n\", end='')\n",
    "cetak_dll(head)"
   ]
  },
  {
   "cell_type": "code",
   "execution_count": null,
   "id": "b13a9222",
   "metadata": {},
   "outputs": [],
   "source": []
  }
 ],
 "metadata": {
  "kernelspec": {
   "display_name": "base",
   "language": "python",
   "name": "python3"
  },
  "language_info": {
   "codemirror_mode": {
    "name": "ipython",
    "version": 3
   },
   "file_extension": ".py",
   "mimetype": "text/x-python",
   "name": "python",
   "nbconvert_exporter": "python",
   "pygments_lexer": "ipython3",
   "version": "3.11.8"
  }
 },
 "nbformat": 4,
 "nbformat_minor": 5
}
